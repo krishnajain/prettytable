{
 "cells": [
  {
   "cell_type": "code",
   "execution_count": 1,
   "id": "restricted-procurement",
   "metadata": {},
   "outputs": [
    {
     "name": "stdout",
     "output_type": "stream",
     "text": [
      "+--------------+-------+---------+------------+\n",
      "| Student Name | Class | Section | Percentage |\n",
      "+--------------+-------+---------+------------+\n",
      "|   Leanord    |   X   |    B    |   91.2 %   |\n",
      "|    Penny     |   X   |    C    |   63.5 %   |\n",
      "|    Howard    |   X   |    A    |  90.23 %   |\n",
      "|  Bernadette  |   X   |    D    |   92.7 %   |\n",
      "|   Sheldon    |   X   |    A    |   98.2 %   |\n",
      "|     Raj      |   X   |    B    |   88.1 %   |\n",
      "|     Amy      |   X   |    B    |   95.0 %   |\n",
      "+--------------+-------+---------+------------+\n"
     ]
    }
   ],
   "source": [
    "from prettytable import PrettyTable\n",
    "\n",
    "myTable = PrettyTable([\"Student Name\", \"Class\", \"Section\", \"Percentage\"])\n",
    "\n",
    "myTable.add_row([\"Leanord\", \"X\", \"B\", \"91.2 %\"])\n",
    "myTable.add_row([\"Penny\", \"X\", \"C\", \"63.5 %\"])\n",
    "myTable.add_row([\"Howard\", \"X\", \"A\", \"90.23 %\"])\n",
    "myTable.add_row([\"Bernadette\", \"X\", \"D\", \"92.7 %\"])\n",
    "myTable.add_row([\"Sheldon\", \"X\", \"A\", \"98.2 %\"])\n",
    "myTable.add_row([\"Raj\", \"X\", \"B\", \"88.1 %\"])\n",
    "myTable.add_row([\"Amy\", \"X\", \"B\", \"95.0 %\"])\n",
    "  \n",
    "print(myTable)"
   ]
  },
  {
   "cell_type": "code",
   "execution_count": null,
   "id": "extra-hardwood",
   "metadata": {},
   "outputs": [],
   "source": []
  }
 ],
 "metadata": {
  "kernelspec": {
   "display_name": "Python 3",
   "language": "python",
   "name": "python3"
  },
  "language_info": {
   "codemirror_mode": {
    "name": "ipython",
    "version": 3
   },
   "file_extension": ".py",
   "mimetype": "text/x-python",
   "name": "python",
   "nbconvert_exporter": "python",
   "pygments_lexer": "ipython3",
   "version": "3.9.1"
  }
 },
 "nbformat": 4,
 "nbformat_minor": 5
}
